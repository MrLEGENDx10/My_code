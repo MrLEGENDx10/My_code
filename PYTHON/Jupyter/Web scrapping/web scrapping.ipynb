{
 "cells": [
  {
   "cell_type": "code",
   "execution_count": null,
   "metadata": {},
   "outputs": [],
   "source": [
    "import requests\n",
    "from bs4 import BeautifulSoup as bs\n",
    "from urllib.request import urlopen\n",
    "import logging"
   ]
  },
  {
   "cell_type": "code",
   "execution_count": null,
   "metadata": {},
   "outputs": [],
   "source": [
    "flipcart_url=\"https://www.flipkart.com/search?q=tv\""
   ]
  },
  {
   "cell_type": "code",
   "execution_count": null,
   "metadata": {},
   "outputs": [],
   "source": [
    "urlclient = urlopen(flipcart_url)"
   ]
  },
  {
   "cell_type": "code",
   "execution_count": null,
   "metadata": {},
   "outputs": [],
   "source": [
    "urlclient"
   ]
  },
  {
   "cell_type": "code",
   "execution_count": null,
   "metadata": {},
   "outputs": [],
   "source": [
    "flipcart_page=urlclient.read()"
   ]
  },
  {
   "cell_type": "code",
   "execution_count": null,
   "metadata": {},
   "outputs": [],
   "source": [
    "flipcart_html=bs(flipcart_page,'html.parser')\n",
    "flipcart_html # this is the html code of the page \n",
    "flipcart_html.prettify() "
   ]
  },
  {
   "cell_type": "code",
   "execution_count": null,
   "metadata": {},
   "outputs": [],
   "source": [
    "flipcart_html=bs(flipcart_page, 'html.parser')"
   ]
  },
  {
   "cell_type": "code",
   "execution_count": null,
   "metadata": {},
   "outputs": [],
   "source": [
    "bigBox=flipcart_html.find_all(\"div\",{\"class\":\"_1AtVbE col-12-12\"})"
   ]
  },
  {
   "cell_type": "code",
   "execution_count": null,
   "metadata": {},
   "outputs": [],
   "source": [
    "len(bigBox)"
   ]
  },
  {
   "cell_type": "code",
   "execution_count": null,
   "metadata": {},
   "outputs": [],
   "source": [
    "del bigBox[0:3]"
   ]
  },
  {
   "cell_type": "code",
   "execution_count": 49,
   "metadata": {},
   "outputs": [],
   "source": [
    "product_link=\"https://www.flipkart.com\" + \"mi-series-108-cm-43-inch-full-hd-led-smart-google-tv-bezel-less-design-dolby-audio-2023-model/p/itm5d3f8da36722a?pid=TVSGREPA7DYQRRJ7&lid=LSTTVSGREPA7DYQRRJ7VBIQMN&marketplace=FLIPKART&q=tv&store=ckf%2Fczl&srno=s_1_2&otracker=search&fm=organic&iid=en_c_GC9DR73XSKfVPGsdy0tB2hxl-QKWm-P52CMLRQkKmDMZAVL0DnWtmRPTTctX4O2iO6gZQlFpYN7_OCXXqnpA%3D%3D&ppt=None&ppn=None&ssid=gtdzi6pnyo0000001692461785466&qH=c9a1fdac6e082dd8\""
   ]
  },
  {
   "cell_type": "code",
   "execution_count": 51,
   "metadata": {},
   "outputs": [
    {
     "name": "stdout",
     "output_type": "stream",
     "text": [
      "https://www.flipkart.com/toshiba-80-cm-32-inch-hd-ready-led-smart-android-tv-dts-x-2023-model/p/itmf6678eeb30234?pid=TVSGZT8YHBHZGMM9&lid=LSTTVSGZT8YHBHZGMM9B5YLGL&marketplace=FLIPKART&q=tv&store=ckf%2Fczl&srno=s_1_2&otracker=search&fm=organic&iid=en_N8db7i5pWQaSOuEYxKododIV6KjJjA2ng2XTiT-WxYcqKpVeYpyh8Qk42ybMZlFp0E2eNBI9dLdQHNFwXAUjuQ%3D%3D&ppt=None&ppn=None&ssid=vchmkabw800000001692460792385&qH=c9a1fdac6e082dd8\n",
      "https://www.flipkart.com/lg-80-cm-32-inch-hd-ready-led-smart-webos-tv/p/itmd091dbd255d6c?pid=TVSFTW4CSRW8PGDQ&lid=LSTTVSFTW4CSRW8PGDQSZQIO6&marketplace=FLIPKART&q=tv&store=ckf%2Fczl&spotlightTagId=FkPickId_ckf%2Fczl&srno=s_1_3&otracker=search&fm=organic&iid=d77c732e-0b99-4f3d-a807-effafdfc4c64.TVSFTW4CSRW8PGDQ.SEARCH&ppt=None&ppn=None&ssid=vchmkabw800000001692460792385&qH=c9a1fdac6e082dd8\n",
      "https://www.flipkart.com/iffalcon-tcl-80-04-cm-32-inch-hd-ready-led-smart-android-tv-bezel-less-design-24w-speaker/p/itm592774a2e615f?pid=TVSGKNZGHCZRNEDW&lid=LSTTVSGKNZGHCZRNEDWPKDF2X&marketplace=FLIPKART&q=tv&store=ckf%2Fczl&srno=s_1_4&otracker=search&fm=organic&iid=d77c732e-0b99-4f3d-a807-effafdfc4c64.TVSGKNZGHCZRNEDW.SEARCH&ppt=None&ppn=None&ssid=vchmkabw800000001692460792385&qH=c9a1fdac6e082dd8\n",
      "https://www.flipkart.com/mi-5a-80-cm-32-inch-hd-ready-led-smart-android-tv-dolby-audio-2022-model/p/itmed1e0642e3a71?pid=TVSGD5CS2SDUUZGN&lid=LSTTVSGD5CS2SDUUZGNPVJDFV&marketplace=FLIPKART&q=tv&store=ckf%2Fczl&spotlightTagId=BestsellerId_ckf%2Fczl&srno=s_1_5&otracker=search&fm=organic&iid=d77c732e-0b99-4f3d-a807-effafdfc4c64.TVSGD5CS2SDUUZGN.SEARCH&ppt=None&ppn=None&ssid=vchmkabw800000001692460792385&qH=c9a1fdac6e082dd8\n",
      "https://www.flipkart.com/samsung-80-cm-32-inch-hd-ready-led-smart-tizen-tv-bezel-free-design/p/itmdfedd9527ff6a?pid=TVSGHY2UZA9YHWQN&lid=LSTTVSGHY2UZA9YHWQNCPAW6M&marketplace=FLIPKART&q=tv&store=ckf%2Fczl&spotlightTagId=BestsellerId_ckf%2Fczl&srno=s_1_6&otracker=search&fm=organic&iid=d77c732e-0b99-4f3d-a807-effafdfc4c64.TVSGHY2UZA9YHWQN.SEARCH&ppt=None&ppn=None&ssid=vchmkabw800000001692460792385&qH=c9a1fdac6e082dd8\n",
      "https://www.flipkart.com/tcl-80-04-cm-32-inch-hd-ready-led-smart-android-tv-bezel-less-extra-brightness/p/itm124bbc3fd3987?pid=TVSGKNZGMFPRKQJZ&lid=LSTTVSGKNZGMFPRKQJZS5GUN6&marketplace=FLIPKART&q=tv&store=ckf%2Fczl&srno=s_1_7&otracker=search&fm=organic&iid=d77c732e-0b99-4f3d-a807-effafdfc4c64.TVSGKNZGMFPRKQJZ.SEARCH&ppt=None&ppn=None&ssid=vchmkabw800000001692460792385&qH=c9a1fdac6e082dd8\n",
      "https://www.flipkart.com/toshiba-m550lp-series-139-cm-55-inch-qled-ultra-hd-4k-smart-google-tv-bass-woofer-regza-engine/p/itmf6af832576a77?pid=TVSGFT4SFXP9CYQX&lid=LSTTVSGFT4SFXP9CYQXJ0RYBB&marketplace=FLIPKART&q=tv&store=ckf%2Fczl&srno=s_1_8&otracker=search&fm=organic&iid=en_N8db7i5pWQaSOuEYxKododIV6KjJjA2ng2XTiT-WxYffG2Swv6gEzrgK2nKDdsEY9LUZHELio9_d8nHBFirNfw%3D%3D&ppt=None&ppn=None&ssid=vchmkabw800000001692460792385&qH=c9a1fdac6e082dd8\n",
      "https://www.flipkart.com/tcl-80-04-cm-32-inch-full-hd-led-smart-android-tv/p/itm7ea495b09dfc2?pid=TVSGQ4YVPVYDFQVR&lid=LSTTVSGQ4YVPVYDFQVRHBPBP2&marketplace=FLIPKART&q=tv&store=ckf%2Fczl&srno=s_1_9&otracker=search&fm=organic&iid=d77c732e-0b99-4f3d-a807-effafdfc4c64.TVSGQ4YVPVYDFQVR.SEARCH&ppt=None&ppn=None&ssid=vchmkabw800000001692460792385&qH=c9a1fdac6e082dd8\n",
      "https://www.flipkart.com/tcl-80-04-cm-32-inch-full-hd-led-smart-google-tv-bezel-less-extra-brightness/p/itm4408629f790ec?pid=TVSGKNZGZFSBE2YC&lid=LSTTVSGKNZGZFSBE2YC12HRF6&marketplace=FLIPKART&q=tv&store=ckf%2Fczl&srno=s_1_10&otracker=search&fm=organic&iid=d77c732e-0b99-4f3d-a807-effafdfc4c64.TVSGKNZGZFSBE2YC.SEARCH&ppt=None&ppn=None&ssid=vchmkabw800000001692460792385&qH=c9a1fdac6e082dd8\n",
      "https://www.flipkart.com/adsun-60-cm-24-inch-hd-ready-led-tv/p/itmd80166a8bad32?pid=TVSFFMNVK6GTCCKZ&lid=LSTTVSFFMNVK6GTCCKZWJCKBQ&marketplace=FLIPKART&q=tv&store=ckf%2Fczl&srno=s_1_11&otracker=search&fm=organic&iid=en_N8db7i5pWQaSOuEYxKododIV6KjJjA2ng2XTiT-WxYcgmIrw31_GZVBHwwIKEiB8QzivEE8_P-MsNjKAR5vxeQ%3D%3D&ppt=None&ppn=None&ssid=vchmkabw800000001692460792385&qH=c9a1fdac6e082dd8\n",
      "https://www.flipkart.com/toshiba-108-cm-43-inch-full-hd-led-smart-android-tv-dts-x-2023-model/p/itm328ba5eb3e795?pid=TVSGZT8YZZPWVJ7Z&lid=LSTTVSGZT8YZZPWVJ7ZMHVEXA&marketplace=FLIPKART&q=tv&store=ckf%2Fczl&srno=s_1_12&otracker=search&fm=organic&iid=en_N8db7i5pWQaSOuEYxKododIV6KjJjA2ng2XTiT-WxYe8ffdogrHSnJi3jQAKb5VXIldQ4nJHM4h0Cxhs3MEcLw%3D%3D&ppt=None&ppn=None&ssid=vchmkabw800000001692460792385&qH=c9a1fdac6e082dd8\n",
      "https://www.flipkart.com/iffalcon-tcl-u62-108-cm-43-inch-ultra-hd-4k-led-smart-google-tv-bezel-less-design-dolby-audio/p/itma3d4887dc2543?pid=TVSGGJTQPTRDFDGX&lid=LSTTVSGGJTQPTRDFDGXEORYEG&marketplace=FLIPKART&q=tv&store=ckf%2Fczl&srno=s_1_13&otracker=search&fm=organic&iid=d77c732e-0b99-4f3d-a807-effafdfc4c64.TVSGGJTQPTRDFDGX.SEARCH&ppt=None&ppn=None&ssid=vchmkabw800000001692460792385&qH=c9a1fdac6e082dd8\n",
      "https://www.flipkart.com/oneplus-y1s-101-cm-40-inch-full-hd-led-smart-android-tv-11-bezel-less-frame/p/itm1415571ca311d?pid=TVSGZ3WB6GBTZVGG&lid=LSTTVSGZ3WB6GBTZVGGEXDZ19&marketplace=FLIPKART&q=tv&store=ckf%2Fczl&srno=s_1_14&otracker=search&fm=organic&iid=d77c732e-0b99-4f3d-a807-effafdfc4c64.TVSGZ3WB6GBTZVGG.SEARCH&ppt=None&ppn=None&ssid=vchmkabw800000001692460792385&qH=c9a1fdac6e082dd8\n",
      "https://www.flipkart.com/infinix-y1-80-cm-32-inch-hd-ready-led-smart-linux-tv-wall-mount/p/itm78a83690a0f43?pid=TVSGFGF34GMTB9KF&lid=LSTTVSGFGF34GMTB9KFF9JZPY&marketplace=FLIPKART&q=tv&store=ckf%2Fczl&spotlightTagId=BestsellerId_ckf%2Fczl&srno=s_1_15&otracker=search&fm=organic&iid=d77c732e-0b99-4f3d-a807-effafdfc4c64.TVSGFGF34GMTB9KF.SEARCH&ppt=None&ppn=None&ssid=vchmkabw800000001692460792385&qH=c9a1fdac6e082dd8\n",
      "https://www.flipkart.com/acer-series-80-cm-32-inch-hd-ready-led-smart-android-tv-11-1-5gb-ram-2022-model/p/itmc194c645a8dad?pid=TVSGEYD98YRZGSRU&lid=LSTTVSGEYD98YRZGSRUPETPT6&marketplace=FLIPKART&q=tv&store=ckf%2Fczl&srno=s_1_16&otracker=search&fm=organic&iid=d77c732e-0b99-4f3d-a807-effafdfc4c64.TVSGEYD98YRZGSRU.SEARCH&ppt=None&ppn=None&ssid=vchmkabw800000001692460792385&qH=c9a1fdac6e082dd8\n",
      "https://www.flipkart.com/adsun-80-cm-32-inch-hd-ready-led-tv/p/itmaab03d647e46c?pid=TVSFFMNVXFU4DFW4&lid=LSTTVSFFMNVXFU4DFW4CHQWEE&marketplace=FLIPKART&q=tv&store=ckf%2Fczl&srno=s_1_17&otracker=search&fm=organic&iid=en_N8db7i5pWQaSOuEYxKododIV6KjJjA2ng2XTiT-WxYfALZUzqSAihQi7bPadxGu1xBdq219-PtH1vLEo2ger0g%3D%3D&ppt=None&ppn=None&ssid=vchmkabw800000001692460792385&qH=c9a1fdac6e082dd8\n",
      "https://www.flipkart.com/toshiba-c350mp-126-cm-50-inch-ultra-hd-4k-led-smart-google-tv-dolby-vision-atmos-regza-engine-2023-model/p/itm018e9a31fb238?pid=TVSGZZWYDH5VQZEV&lid=LSTTVSGZZWYDH5VQZEVSWXCFZ&marketplace=FLIPKART&q=tv&store=ckf%2Fczl&srno=s_1_18&otracker=search&fm=organic&iid=en_N8db7i5pWQaSOuEYxKododIV6KjJjA2ng2XTiT-WxYcKo7Ga7GJ7asgGskQHTLQZvQRplhsYYFvZvpngoPyduA%3D%3D&ppt=None&ppn=None&ssid=vchmkabw800000001692460792385&qH=c9a1fdac6e082dd8\n",
      "https://www.flipkart.com/oneplus-y1s-80-cm-32-inch-hd-ready-led-smart-android-tv-11-bezel-less-frame/p/itm6b1882cc77699?pid=TVSGAXEVXNG9YBUM&lid=LSTTVSGAXEVXNG9YBUMA8AVPU&marketplace=FLIPKART&q=tv&store=ckf%2Fczl&srno=s_1_19&otracker=search&fm=organic&iid=d77c732e-0b99-4f3d-a807-effafdfc4c64.TVSGAXEVXNG9YBUM.SEARCH&ppt=None&ppn=None&ssid=vchmkabw800000001692460792385&qH=c9a1fdac6e082dd8\n",
      "https://www.flipkart.com/oneplus-y1s-108-cm-43-inch-full-hd-led-smart-android-tv-11-bezel-less-frame/p/itmd2cfbab527e18?pid=TVSGAXEVSNT3HBQA&lid=LSTTVSGAXEVSNT3HBQADHUARX&marketplace=FLIPKART&q=tv&store=ckf%2Fczl&srno=s_1_20&otracker=search&fm=organic&iid=d77c732e-0b99-4f3d-a807-effafdfc4c64.TVSGAXEVSNT3HBQA.SEARCH&ppt=None&ppn=None&ssid=vchmkabw800000001692460792385&qH=c9a1fdac6e082dd8\n",
      "https://www.flipkart.com/toshiba-m550lp-series-164-cm-65-inch-qled-ultra-hd-4k-smart-google-tv-bass-woofer-regza-engine/p/itm2bf31ab9d685f?pid=TVSGFT4SHBZUYHD6&lid=LSTTVSGFT4SHBZUYHD6LMSYNJ&marketplace=FLIPKART&q=tv&store=ckf%2Fczl&srno=s_1_21&otracker=search&fm=organic&iid=en_N8db7i5pWQaSOuEYxKododIV6KjJjA2ng2XTiT-WxYeMDPP5aLE5kRFjwPIPpTeETVhrwXSPVuCmqtyh8EbmnA%3D%3D&ppt=None&ppn=None&ssid=vchmkabw800000001692460792385&qH=c9a1fdac6e082dd8\n",
      "https://www.flipkart.com/toshiba-c350mp-108-cm-43-inch-ultra-hd-4k-led-smart-google-tv-dolby-vision-atmos-regza-engine-2023-model/p/itm4537326432153?pid=TVSGZZWYGGQFWVZD&lid=LSTTVSGZZWYGGQFWVZDMONWMN&marketplace=FLIPKART&q=tv&store=ckf%2Fczl&srno=s_1_22&otracker=search&fm=organic&iid=en_N8db7i5pWQaSOuEYxKododIV6KjJjA2ng2XTiT-WxYcpE7ylM5tCBoR_xHZJxnWcHAnHMuvYRgs_qo2BP1iScg%3D%3D&ppt=None&ppn=None&ssid=vchmkabw800000001692460792385&qH=c9a1fdac6e082dd8\n",
      "https://www.flipkart.com/infinix-x3in-80-cm-32-inch-hd-ready-led-smart-android-tv/p/itm08368973e0c2e?pid=TVSGZZY4MHBSP9VD&lid=LSTTVSGZZY4MHBSP9VDVQ1L7Z&marketplace=FLIPKART&q=tv&store=ckf%2Fczl&srno=s_1_23&otracker=search&fm=organic&iid=d77c732e-0b99-4f3d-a807-effafdfc4c64.TVSGZZY4MHBSP9VD.SEARCH&ppt=None&ppn=None&ssid=vchmkabw800000001692460792385&qH=c9a1fdac6e082dd8\n",
      "https://www.flipkart.com/mi-5a-100-cm-40-inch-full-hd-led-smart-android-tv-dolby-audio-2022-model/p/itm9c87830e51e55?pid=TVSGD5CS4N7NWFZD&lid=LSTTVSGD5CS4N7NWFZDCMWLRV&marketplace=FLIPKART&q=tv&store=ckf%2Fczl&srno=s_1_24&otracker=search&fm=organic&iid=d77c732e-0b99-4f3d-a807-effafdfc4c64.TVSGD5CS4N7NWFZD.SEARCH&ppt=None&ppn=None&ssid=vchmkabw800000001692460792385&qH=c9a1fdac6e082dd8\n"
     ]
    },
    {
     "ename": "AttributeError",
     "evalue": "'NoneType' object has no attribute 'a'",
     "output_type": "error",
     "traceback": [
      "\u001b[1;31m---------------------------------------------------------------------------\u001b[0m",
      "\u001b[1;31mAttributeError\u001b[0m                            Traceback (most recent call last)",
      "Cell \u001b[1;32mIn[51], line 2\u001b[0m\n\u001b[0;32m      1\u001b[0m \u001b[39mfor\u001b[39;00m i \u001b[39min\u001b[39;00m bigBox:\n\u001b[1;32m----> 2\u001b[0m     \u001b[39mprint\u001b[39m(\u001b[39m\"\u001b[39m\u001b[39mhttps://www.flipkart.com\u001b[39m\u001b[39m\"\u001b[39m \u001b[39m+\u001b[39m i\u001b[39m.\u001b[39;49mdiv\u001b[39m.\u001b[39;49mdiv\u001b[39m.\u001b[39;49mdiv\u001b[39m.\u001b[39;49ma[\u001b[39m'\u001b[39m\u001b[39mhref\u001b[39m\u001b[39m'\u001b[39m])\n",
      "\u001b[1;31mAttributeError\u001b[0m: 'NoneType' object has no attribute 'a'"
     ]
    }
   ],
   "source": [
    "for i in bigBox:\n",
    "    print(\"https://www.flipkart.com\" + i.div.div.div.a['href'])"
   ]
  },
  {
   "cell_type": "code",
   "execution_count": 52,
   "metadata": {},
   "outputs": [
    {
     "ename": "LocationParseError",
     "evalue": "Failed to parse: 'www.flipkart.commi-series-108-cm-43-inch-full-hd-led-smart-google-tv-bezel-less-design-dolby-audio-2023-model', label empty or too long",
     "output_type": "error",
     "traceback": [
      "\u001b[1;31m---------------------------------------------------------------------------\u001b[0m",
      "\u001b[1;31mLocationParseError\u001b[0m                        Traceback (most recent call last)",
      "Cell \u001b[1;32mIn[52], line 1\u001b[0m\n\u001b[1;32m----> 1\u001b[0m product_req\u001b[39m=\u001b[39mrequests\u001b[39m.\u001b[39;49mget(product_link)\n",
      "File \u001b[1;32mc:\\Users\\dell\\AppData\\Local\\Programs\\Python\\Python311\\Lib\\site-packages\\requests\\api.py:73\u001b[0m, in \u001b[0;36mget\u001b[1;34m(url, params, **kwargs)\u001b[0m\n\u001b[0;32m     62\u001b[0m \u001b[39mdef\u001b[39;00m \u001b[39mget\u001b[39m(url, params\u001b[39m=\u001b[39m\u001b[39mNone\u001b[39;00m, \u001b[39m*\u001b[39m\u001b[39m*\u001b[39mkwargs):\n\u001b[0;32m     63\u001b[0m \u001b[39m    \u001b[39m\u001b[39mr\u001b[39m\u001b[39m\"\"\"Sends a GET request.\u001b[39;00m\n\u001b[0;32m     64\u001b[0m \n\u001b[0;32m     65\u001b[0m \u001b[39m    :param url: URL for the new :class:`Request` object.\u001b[39;00m\n\u001b[1;32m   (...)\u001b[0m\n\u001b[0;32m     70\u001b[0m \u001b[39m    :rtype: requests.Response\u001b[39;00m\n\u001b[0;32m     71\u001b[0m \u001b[39m    \"\"\"\u001b[39;00m\n\u001b[1;32m---> 73\u001b[0m     \u001b[39mreturn\u001b[39;00m request(\u001b[39m\"\u001b[39;49m\u001b[39mget\u001b[39;49m\u001b[39m\"\u001b[39;49m, url, params\u001b[39m=\u001b[39;49mparams, \u001b[39m*\u001b[39;49m\u001b[39m*\u001b[39;49mkwargs)\n",
      "File \u001b[1;32mc:\\Users\\dell\\AppData\\Local\\Programs\\Python\\Python311\\Lib\\site-packages\\requests\\api.py:59\u001b[0m, in \u001b[0;36mrequest\u001b[1;34m(method, url, **kwargs)\u001b[0m\n\u001b[0;32m     55\u001b[0m \u001b[39m# By using the 'with' statement we are sure the session is closed, thus we\u001b[39;00m\n\u001b[0;32m     56\u001b[0m \u001b[39m# avoid leaving sockets open which can trigger a ResourceWarning in some\u001b[39;00m\n\u001b[0;32m     57\u001b[0m \u001b[39m# cases, and look like a memory leak in others.\u001b[39;00m\n\u001b[0;32m     58\u001b[0m \u001b[39mwith\u001b[39;00m sessions\u001b[39m.\u001b[39mSession() \u001b[39mas\u001b[39;00m session:\n\u001b[1;32m---> 59\u001b[0m     \u001b[39mreturn\u001b[39;00m session\u001b[39m.\u001b[39;49mrequest(method\u001b[39m=\u001b[39;49mmethod, url\u001b[39m=\u001b[39;49murl, \u001b[39m*\u001b[39;49m\u001b[39m*\u001b[39;49mkwargs)\n",
      "File \u001b[1;32mc:\\Users\\dell\\AppData\\Local\\Programs\\Python\\Python311\\Lib\\site-packages\\requests\\sessions.py:589\u001b[0m, in \u001b[0;36mSession.request\u001b[1;34m(self, method, url, params, data, headers, cookies, files, auth, timeout, allow_redirects, proxies, hooks, stream, verify, cert, json)\u001b[0m\n\u001b[0;32m    584\u001b[0m send_kwargs \u001b[39m=\u001b[39m {\n\u001b[0;32m    585\u001b[0m     \u001b[39m\"\u001b[39m\u001b[39mtimeout\u001b[39m\u001b[39m\"\u001b[39m: timeout,\n\u001b[0;32m    586\u001b[0m     \u001b[39m\"\u001b[39m\u001b[39mallow_redirects\u001b[39m\u001b[39m\"\u001b[39m: allow_redirects,\n\u001b[0;32m    587\u001b[0m }\n\u001b[0;32m    588\u001b[0m send_kwargs\u001b[39m.\u001b[39mupdate(settings)\n\u001b[1;32m--> 589\u001b[0m resp \u001b[39m=\u001b[39m \u001b[39mself\u001b[39;49m\u001b[39m.\u001b[39;49msend(prep, \u001b[39m*\u001b[39;49m\u001b[39m*\u001b[39;49msend_kwargs)\n\u001b[0;32m    591\u001b[0m \u001b[39mreturn\u001b[39;00m resp\n",
      "File \u001b[1;32mc:\\Users\\dell\\AppData\\Local\\Programs\\Python\\Python311\\Lib\\site-packages\\requests\\sessions.py:703\u001b[0m, in \u001b[0;36mSession.send\u001b[1;34m(self, request, **kwargs)\u001b[0m\n\u001b[0;32m    700\u001b[0m start \u001b[39m=\u001b[39m preferred_clock()\n\u001b[0;32m    702\u001b[0m \u001b[39m# Send the request\u001b[39;00m\n\u001b[1;32m--> 703\u001b[0m r \u001b[39m=\u001b[39m adapter\u001b[39m.\u001b[39;49msend(request, \u001b[39m*\u001b[39;49m\u001b[39m*\u001b[39;49mkwargs)\n\u001b[0;32m    705\u001b[0m \u001b[39m# Total elapsed time of the request (approximately)\u001b[39;00m\n\u001b[0;32m    706\u001b[0m elapsed \u001b[39m=\u001b[39m preferred_clock() \u001b[39m-\u001b[39m start\n",
      "File \u001b[1;32mc:\\Users\\dell\\AppData\\Local\\Programs\\Python\\Python311\\Lib\\site-packages\\requests\\adapters.py:486\u001b[0m, in \u001b[0;36mHTTPAdapter.send\u001b[1;34m(self, request, stream, timeout, verify, cert, proxies)\u001b[0m\n\u001b[0;32m    483\u001b[0m     timeout \u001b[39m=\u001b[39m TimeoutSauce(connect\u001b[39m=\u001b[39mtimeout, read\u001b[39m=\u001b[39mtimeout)\n\u001b[0;32m    485\u001b[0m \u001b[39mtry\u001b[39;00m:\n\u001b[1;32m--> 486\u001b[0m     resp \u001b[39m=\u001b[39m conn\u001b[39m.\u001b[39;49murlopen(\n\u001b[0;32m    487\u001b[0m         method\u001b[39m=\u001b[39;49mrequest\u001b[39m.\u001b[39;49mmethod,\n\u001b[0;32m    488\u001b[0m         url\u001b[39m=\u001b[39;49murl,\n\u001b[0;32m    489\u001b[0m         body\u001b[39m=\u001b[39;49mrequest\u001b[39m.\u001b[39;49mbody,\n\u001b[0;32m    490\u001b[0m         headers\u001b[39m=\u001b[39;49mrequest\u001b[39m.\u001b[39;49mheaders,\n\u001b[0;32m    491\u001b[0m         redirect\u001b[39m=\u001b[39;49m\u001b[39mFalse\u001b[39;49;00m,\n\u001b[0;32m    492\u001b[0m         assert_same_host\u001b[39m=\u001b[39;49m\u001b[39mFalse\u001b[39;49;00m,\n\u001b[0;32m    493\u001b[0m         preload_content\u001b[39m=\u001b[39;49m\u001b[39mFalse\u001b[39;49;00m,\n\u001b[0;32m    494\u001b[0m         decode_content\u001b[39m=\u001b[39;49m\u001b[39mFalse\u001b[39;49;00m,\n\u001b[0;32m    495\u001b[0m         retries\u001b[39m=\u001b[39;49m\u001b[39mself\u001b[39;49m\u001b[39m.\u001b[39;49mmax_retries,\n\u001b[0;32m    496\u001b[0m         timeout\u001b[39m=\u001b[39;49mtimeout,\n\u001b[0;32m    497\u001b[0m         chunked\u001b[39m=\u001b[39;49mchunked,\n\u001b[0;32m    498\u001b[0m     )\n\u001b[0;32m    500\u001b[0m \u001b[39mexcept\u001b[39;00m (ProtocolError, \u001b[39mOSError\u001b[39;00m) \u001b[39mas\u001b[39;00m err:\n\u001b[0;32m    501\u001b[0m     \u001b[39mraise\u001b[39;00m \u001b[39mConnectionError\u001b[39;00m(err, request\u001b[39m=\u001b[39mrequest)\n",
      "File \u001b[1;32mc:\\Users\\dell\\AppData\\Local\\Programs\\Python\\Python311\\Lib\\site-packages\\urllib3\\connectionpool.py:790\u001b[0m, in \u001b[0;36mHTTPConnectionPool.urlopen\u001b[1;34m(self, method, url, body, headers, retries, redirect, assert_same_host, timeout, pool_timeout, release_conn, chunked, body_pos, preload_content, decode_content, **response_kw)\u001b[0m\n\u001b[0;32m    787\u001b[0m response_conn \u001b[39m=\u001b[39m conn \u001b[39mif\u001b[39;00m \u001b[39mnot\u001b[39;00m release_conn \u001b[39melse\u001b[39;00m \u001b[39mNone\u001b[39;00m\n\u001b[0;32m    789\u001b[0m \u001b[39m# Make the request on the HTTPConnection object\u001b[39;00m\n\u001b[1;32m--> 790\u001b[0m response \u001b[39m=\u001b[39m \u001b[39mself\u001b[39;49m\u001b[39m.\u001b[39;49m_make_request(\n\u001b[0;32m    791\u001b[0m     conn,\n\u001b[0;32m    792\u001b[0m     method,\n\u001b[0;32m    793\u001b[0m     url,\n\u001b[0;32m    794\u001b[0m     timeout\u001b[39m=\u001b[39;49mtimeout_obj,\n\u001b[0;32m    795\u001b[0m     body\u001b[39m=\u001b[39;49mbody,\n\u001b[0;32m    796\u001b[0m     headers\u001b[39m=\u001b[39;49mheaders,\n\u001b[0;32m    797\u001b[0m     chunked\u001b[39m=\u001b[39;49mchunked,\n\u001b[0;32m    798\u001b[0m     retries\u001b[39m=\u001b[39;49mretries,\n\u001b[0;32m    799\u001b[0m     response_conn\u001b[39m=\u001b[39;49mresponse_conn,\n\u001b[0;32m    800\u001b[0m     preload_content\u001b[39m=\u001b[39;49mpreload_content,\n\u001b[0;32m    801\u001b[0m     decode_content\u001b[39m=\u001b[39;49mdecode_content,\n\u001b[0;32m    802\u001b[0m     \u001b[39m*\u001b[39;49m\u001b[39m*\u001b[39;49mresponse_kw,\n\u001b[0;32m    803\u001b[0m )\n\u001b[0;32m    805\u001b[0m \u001b[39m# Everything went great!\u001b[39;00m\n\u001b[0;32m    806\u001b[0m clean_exit \u001b[39m=\u001b[39m \u001b[39mTrue\u001b[39;00m\n",
      "File \u001b[1;32mc:\\Users\\dell\\AppData\\Local\\Programs\\Python\\Python311\\Lib\\site-packages\\urllib3\\connectionpool.py:467\u001b[0m, in \u001b[0;36mHTTPConnectionPool._make_request\u001b[1;34m(self, conn, method, url, body, headers, retries, timeout, chunked, response_conn, preload_content, decode_content, enforce_content_length)\u001b[0m\n\u001b[0;32m    464\u001b[0m \u001b[39mtry\u001b[39;00m:\n\u001b[0;32m    465\u001b[0m     \u001b[39m# Trigger any extra validation we need to do.\u001b[39;00m\n\u001b[0;32m    466\u001b[0m     \u001b[39mtry\u001b[39;00m:\n\u001b[1;32m--> 467\u001b[0m         \u001b[39mself\u001b[39;49m\u001b[39m.\u001b[39;49m_validate_conn(conn)\n\u001b[0;32m    468\u001b[0m     \u001b[39mexcept\u001b[39;00m (SocketTimeout, BaseSSLError) \u001b[39mas\u001b[39;00m e:\n\u001b[0;32m    469\u001b[0m         \u001b[39mself\u001b[39m\u001b[39m.\u001b[39m_raise_timeout(err\u001b[39m=\u001b[39me, url\u001b[39m=\u001b[39murl, timeout_value\u001b[39m=\u001b[39mconn\u001b[39m.\u001b[39mtimeout)\n",
      "File \u001b[1;32mc:\\Users\\dell\\AppData\\Local\\Programs\\Python\\Python311\\Lib\\site-packages\\urllib3\\connectionpool.py:1092\u001b[0m, in \u001b[0;36mHTTPSConnectionPool._validate_conn\u001b[1;34m(self, conn)\u001b[0m\n\u001b[0;32m   1090\u001b[0m \u001b[39m# Force connect early to allow us to validate the connection.\u001b[39;00m\n\u001b[0;32m   1091\u001b[0m \u001b[39mif\u001b[39;00m conn\u001b[39m.\u001b[39mis_closed:\n\u001b[1;32m-> 1092\u001b[0m     conn\u001b[39m.\u001b[39;49mconnect()\n\u001b[0;32m   1094\u001b[0m \u001b[39mif\u001b[39;00m \u001b[39mnot\u001b[39;00m conn\u001b[39m.\u001b[39mis_verified:\n\u001b[0;32m   1095\u001b[0m     warnings\u001b[39m.\u001b[39mwarn(\n\u001b[0;32m   1096\u001b[0m         (\n\u001b[0;32m   1097\u001b[0m             \u001b[39mf\u001b[39m\u001b[39m\"\u001b[39m\u001b[39mUnverified HTTPS request is being made to host \u001b[39m\u001b[39m'\u001b[39m\u001b[39m{\u001b[39;00mconn\u001b[39m.\u001b[39mhost\u001b[39m}\u001b[39;00m\u001b[39m'\u001b[39m\u001b[39m. \u001b[39m\u001b[39m\"\u001b[39m\n\u001b[1;32m   (...)\u001b[0m\n\u001b[0;32m   1102\u001b[0m         InsecureRequestWarning,\n\u001b[0;32m   1103\u001b[0m     )\n",
      "File \u001b[1;32mc:\\Users\\dell\\AppData\\Local\\Programs\\Python\\Python311\\Lib\\site-packages\\urllib3\\connection.py:611\u001b[0m, in \u001b[0;36mHTTPSConnection.connect\u001b[1;34m(self)\u001b[0m\n\u001b[0;32m    609\u001b[0m \u001b[39mdef\u001b[39;00m \u001b[39mconnect\u001b[39m(\u001b[39mself\u001b[39m) \u001b[39m-\u001b[39m\u001b[39m>\u001b[39m \u001b[39mNone\u001b[39;00m:\n\u001b[0;32m    610\u001b[0m     sock: socket\u001b[39m.\u001b[39msocket \u001b[39m|\u001b[39m ssl\u001b[39m.\u001b[39mSSLSocket\n\u001b[1;32m--> 611\u001b[0m     \u001b[39mself\u001b[39m\u001b[39m.\u001b[39msock \u001b[39m=\u001b[39m sock \u001b[39m=\u001b[39m \u001b[39mself\u001b[39;49m\u001b[39m.\u001b[39;49m_new_conn()\n\u001b[0;32m    612\u001b[0m     server_hostname: \u001b[39mstr\u001b[39m \u001b[39m=\u001b[39m \u001b[39mself\u001b[39m\u001b[39m.\u001b[39mhost\n\u001b[0;32m    613\u001b[0m     tls_in_tls \u001b[39m=\u001b[39m \u001b[39mFalse\u001b[39;00m\n",
      "File \u001b[1;32mc:\\Users\\dell\\AppData\\Local\\Programs\\Python\\Python311\\Lib\\site-packages\\urllib3\\connection.py:203\u001b[0m, in \u001b[0;36mHTTPConnection._new_conn\u001b[1;34m(self)\u001b[0m\n\u001b[0;32m    198\u001b[0m \u001b[39m\u001b[39m\u001b[39m\"\"\"Establish a socket connection and set nodelay settings on it.\u001b[39;00m\n\u001b[0;32m    199\u001b[0m \n\u001b[0;32m    200\u001b[0m \u001b[39m:return: New socket connection.\u001b[39;00m\n\u001b[0;32m    201\u001b[0m \u001b[39m\"\"\"\u001b[39;00m\n\u001b[0;32m    202\u001b[0m \u001b[39mtry\u001b[39;00m:\n\u001b[1;32m--> 203\u001b[0m     sock \u001b[39m=\u001b[39m connection\u001b[39m.\u001b[39;49mcreate_connection(\n\u001b[0;32m    204\u001b[0m         (\u001b[39mself\u001b[39;49m\u001b[39m.\u001b[39;49m_dns_host, \u001b[39mself\u001b[39;49m\u001b[39m.\u001b[39;49mport),\n\u001b[0;32m    205\u001b[0m         \u001b[39mself\u001b[39;49m\u001b[39m.\u001b[39;49mtimeout,\n\u001b[0;32m    206\u001b[0m         source_address\u001b[39m=\u001b[39;49m\u001b[39mself\u001b[39;49m\u001b[39m.\u001b[39;49msource_address,\n\u001b[0;32m    207\u001b[0m         socket_options\u001b[39m=\u001b[39;49m\u001b[39mself\u001b[39;49m\u001b[39m.\u001b[39;49msocket_options,\n\u001b[0;32m    208\u001b[0m     )\n\u001b[0;32m    209\u001b[0m \u001b[39mexcept\u001b[39;00m socket\u001b[39m.\u001b[39mgaierror \u001b[39mas\u001b[39;00m e:\n\u001b[0;32m    210\u001b[0m     \u001b[39mraise\u001b[39;00m NameResolutionError(\u001b[39mself\u001b[39m\u001b[39m.\u001b[39mhost, \u001b[39mself\u001b[39m, e) \u001b[39mfrom\u001b[39;00m \u001b[39me\u001b[39;00m\n",
      "File \u001b[1;32mc:\\Users\\dell\\AppData\\Local\\Programs\\Python\\Python311\\Lib\\site-packages\\urllib3\\util\\connection.py:58\u001b[0m, in \u001b[0;36mcreate_connection\u001b[1;34m(address, timeout, source_address, socket_options)\u001b[0m\n\u001b[0;32m     56\u001b[0m     host\u001b[39m.\u001b[39mencode(\u001b[39m\"\u001b[39m\u001b[39midna\u001b[39m\u001b[39m\"\u001b[39m)\n\u001b[0;32m     57\u001b[0m \u001b[39mexcept\u001b[39;00m \u001b[39mUnicodeError\u001b[39;00m:\n\u001b[1;32m---> 58\u001b[0m     \u001b[39mraise\u001b[39;00m LocationParseError(\u001b[39mf\u001b[39m\u001b[39m\"\u001b[39m\u001b[39m'\u001b[39m\u001b[39m{\u001b[39;00mhost\u001b[39m}\u001b[39;00m\u001b[39m'\u001b[39m\u001b[39m, label empty or too long\u001b[39m\u001b[39m\"\u001b[39m) \u001b[39mfrom\u001b[39;00m \u001b[39mNone\u001b[39;00m\n\u001b[0;32m     60\u001b[0m \u001b[39mfor\u001b[39;00m res \u001b[39min\u001b[39;00m socket\u001b[39m.\u001b[39mgetaddrinfo(host, port, family, socket\u001b[39m.\u001b[39mSOCK_STREAM):\n\u001b[0;32m     61\u001b[0m     af, socktype, proto, canonname, sa \u001b[39m=\u001b[39m res\n",
      "\u001b[1;31mLocationParseError\u001b[0m: Failed to parse: 'www.flipkart.commi-series-108-cm-43-inch-full-hd-led-smart-google-tv-bezel-less-design-dolby-audio-2023-model', label empty or too long"
     ]
    }
   ],
   "source": [
    "product_req=requests.get(product_link)"
   ]
  },
  {
   "cell_type": "code",
   "execution_count": 53,
   "metadata": {},
   "outputs": [],
   "source": [
    "product_html=bs(product_req.text,'html.parser')"
   ]
  },
  {
   "cell_type": "code",
   "execution_count": 54,
   "metadata": {},
   "outputs": [],
   "source": [
    "comment_box=product_html.find_all(\"div\",{\"class\":\"col _2wzgFH\"})"
   ]
  },
  {
   "cell_type": "code",
   "execution_count": 55,
   "metadata": {},
   "outputs": [
    {
     "data": {
      "text/plain": [
       "10"
      ]
     },
     "execution_count": 55,
     "metadata": {},
     "output_type": "execute_result"
    }
   ],
   "source": [
    "len(comment_box)"
   ]
  },
  {
   "cell_type": "code",
   "execution_count": 56,
   "metadata": {},
   "outputs": [
    {
     "ename": "IndexError",
     "evalue": "list index out of range",
     "output_type": "error",
     "traceback": [
      "\u001b[1;31m---------------------------------------------------------------------------\u001b[0m",
      "\u001b[1;31mIndexError\u001b[0m                                Traceback (most recent call last)",
      "Cell \u001b[1;32mIn[56], line 1\u001b[0m\n\u001b[1;32m----> 1\u001b[0m comment_box[\u001b[39m0\u001b[39;49m]\u001b[39m.\u001b[39;49mdiv\u001b[39m.\u001b[39;49mdiv\u001b[39m.\u001b[39;49mfind_all(\u001b[39m'\u001b[39;49m\u001b[39mdiv\u001b[39;49m\u001b[39m'\u001b[39;49m,{\u001b[39m'\u001b[39;49m\u001b[39mclass\u001b[39;49m\u001b[39m'\u001b[39;49m:\u001b[39m'\u001b[39;49m\u001b[39m'\u001b[39;49m})[\u001b[39m0\u001b[39;49m]\n",
      "\u001b[1;31mIndexError\u001b[0m: list index out of range"
     ]
    }
   ],
   "source": [
    "comment_box[0].div.div.find_all('div',{'class':''})[0]"
   ]
  },
  {
   "cell_type": "code",
   "execution_count": 57,
   "metadata": {},
   "outputs": [
    {
     "ename": "IndexError",
     "evalue": "list index out of range",
     "output_type": "error",
     "traceback": [
      "\u001b[1;31m---------------------------------------------------------------------------\u001b[0m",
      "\u001b[1;31mIndexError\u001b[0m                                Traceback (most recent call last)",
      "Cell \u001b[1;32mIn[57], line 1\u001b[0m\n\u001b[1;32m----> 1\u001b[0m comment_box[\u001b[39m0\u001b[39;49m]\u001b[39m.\u001b[39;49mdiv\u001b[39m.\u001b[39;49mdiv\u001b[39m.\u001b[39;49mfind_all(\u001b[39m\"\u001b[39;49m\u001b[39mp\u001b[39;49m\u001b[39m\"\u001b[39;49m,{\u001b[39m\"\u001b[39;49m\u001b[39mclass\u001b[39;49m\u001b[39m\"\u001b[39;49m:\u001b[39m\"\u001b[39;49m\u001b[39m_2sc7ZR _2V5EHH\u001b[39;49m\u001b[39m\"\u001b[39;49m})[\u001b[39m0\u001b[39;49m]\n",
      "\u001b[1;31mIndexError\u001b[0m: list index out of range"
     ]
    }
   ],
   "source": [
    "comment_box[0].div.div.find_all(\"p\",{\"class\":\"_2sc7ZR _2V5EHH\"})[0]"
   ]
  },
  {
   "cell_type": "code",
   "execution_count": null,
   "metadata": {},
   "outputs": [],
   "source": []
  },
  {
   "cell_type": "code",
   "execution_count": null,
   "metadata": {},
   "outputs": [],
   "source": []
  }
 ],
 "metadata": {
  "kernelspec": {
   "display_name": "Python 3",
   "language": "python",
   "name": "python3"
  },
  "language_info": {
   "codemirror_mode": {
    "name": "ipython",
    "version": 3
   },
   "file_extension": ".py",
   "mimetype": "text/x-python",
   "name": "python",
   "nbconvert_exporter": "python",
   "pygments_lexer": "ipython3",
   "version": "3.11.4"
  },
  "orig_nbformat": 4
 },
 "nbformat": 4,
 "nbformat_minor": 2
}
